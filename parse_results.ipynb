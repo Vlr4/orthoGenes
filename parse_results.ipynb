{
 "cells": [
  {
   "cell_type": "code",
   "execution_count": 1,
   "id": "759ef1dc",
   "metadata": {},
   "outputs": [],
   "source": [
    "import os\n",
    "import gzip\n",
    "import shutil\n",
    "import xml.etree.ElementTree as ET\n",
    "import numpy as np\n",
    "import pandas as pd\n",
    "pd.options.mode.chained_assignment = None\n",
    "from Bio.Blast import NCBIXML"
   ]
  },
  {
   "cell_type": "code",
   "execution_count": 2,
   "id": "4e46498b",
   "metadata": {},
   "outputs": [],
   "source": [
    "TMP_DIR = '/home/vlr/Documents/Projects/Zoology/Programs_codes/Blast_gene_search/Orthosearch/test/2023_blast_search/blast_results/'\n",
    "RES_DIR = '/home/vlr/Documents/Projects/Zoology/Programs_codes/Blast_gene_search/Orthosearch/test/2023_blast_search/final/'"
   ]
  },
  {
   "cell_type": "code",
   "execution_count": 3,
   "id": "8d0a4d04",
   "metadata": {},
   "outputs": [],
   "source": [
    "def count_upper_mis(row):\n",
    "    return sum([1 for i, j in zip(row['upper_ref'], row['upper_part']) if i != j])\n",
    "def count_lower_mis(row):\n",
    "    return sum([1 for i, j in zip(row['lower_ref'], row['lower_part']) if i != j])"
   ]
  },
  {
   "cell_type": "code",
   "execution_count": 4,
   "id": "92878e4c",
   "metadata": {},
   "outputs": [],
   "source": [
    "def get_best_value(row):\n",
    "    if row['upper_mismatches'] >= row['lower_mismatches']:\n",
    "        return row['lower_part']\n",
    "    else:\n",
    "        return row['upper_part']\n"
   ]
  },
  {
   "cell_type": "markdown",
   "id": "d43a9a06",
   "metadata": {},
   "source": [
    "# Handle and parse XML"
   ]
  },
  {
   "cell_type": "code",
   "execution_count": null,
   "id": "42517c81",
   "metadata": {},
   "outputs": [],
   "source": []
  },
  {
   "cell_type": "code",
   "execution_count": 5,
   "id": "31253781",
   "metadata": {},
   "outputs": [],
   "source": [
    "def parse_results(blast_output):\n",
    "    \n",
    "    result_handle = open(TMP_DIR + blast_output)\n",
    "    blast_record = NCBIXML.read(result_handle)\n",
    "    filename = blast_record.alignments[0].title\n",
    "    alignment_dict = {}\n",
    "    count = 1\n",
    "    for alignment in blast_record.alignments:\n",
    "        for hsp in alignment.hsps:\n",
    "            if hsp.score > 50 and hsp.query_start != 316 and hsp.query_start != 309:\n",
    "                feature_dict = {}\n",
    "                feature_dict['title'] = alignment.title\n",
    "                feature_dict['start'] = hsp.query_start\n",
    "                feature_dict['end'] = hsp.query_end\n",
    "                feature_dict['score'] = hsp.score\n",
    "                feature_dict['query'] = hsp.query\n",
    "                feature_dict['subject'] = hsp.sbjct\n",
    "                alignment_dict[count] = feature_dict\n",
    "                count += 1\n",
    "    with open (RES_DIR + blast_output + '.txt', 'a') as res:\n",
    "        df = pd.DataFrame(alignment_dict)\n",
    "        df = df.T\n",
    "        if len(df.index) > 1:\n",
    "            df.sort_values(by=['start', 'end'], ascending=[True, False], inplace=True)\n",
    "            df.drop_duplicates(inplace=True, keep='first') \n",
    "            df.reset_index(inplace=True, drop=True)\n",
    "            rows_to_remove = []\n",
    "            for i, row in df.iterrows():\n",
    "                start = row['start']\n",
    "                end = row['end']\n",
    "                for j in range(i + 1, len(df)):\n",
    "                    next_start = df.iloc[j]['start']\n",
    "                    next_end = df.iloc[j]['end']\n",
    "                    if start <= next_start and end >= next_end:\n",
    "                        rows_to_remove.append(j)\n",
    "            df = df.drop(rows_to_remove)\n",
    "            df.reset_index(inplace=True, drop=True)\n",
    "            df['upper_diff'] = 0\n",
    "            df['lower_diff'] = 0\n",
    "            for i in range(0, len(df)-1):\n",
    "                    df['lower_diff'][i+1] = (df['end'][i] - df['start'][i+1])+1\n",
    "            for i in range(0, len(df)-1):\n",
    "                df['upper_diff'][i] = (df['end'][i] - df['start'][i+1])+1\n",
    "            df['upper_diff'].clip(lower=0, inplace=True)\n",
    "            df['lower_diff'].clip(lower=0, inplace=True)\n",
    "            df['upper_part'] = df.apply(lambda x: x['query'][-x['upper_diff']:] if x['upper_diff'] != 0 else '', axis=1)\n",
    "            df['upper_ref'] = df.apply(lambda x: x['subject'][-x['upper_diff']:] if x['upper_diff'] != 0 else '', axis=1)\n",
    "            df['lower_part'] = df.apply(lambda x: x['query'][:x['lower_diff']] if x['lower_diff'] != 0 else '', axis=1)\n",
    "            df['lower_ref'] = df.apply(lambda x: x['subject'][:x['lower_diff']] if x['lower_diff'] != 0 else '', axis=1)\n",
    "            \n",
    "            df[['lower_part', 'lower_ref']] = df[['lower_part', 'lower_ref']].shift (-1)\n",
    "            df.fillna('', inplace=True)\n",
    "            df['upper_mismatches'] = df.apply(count_upper_mis, axis=1)\n",
    "            df['lower_mismatches'] = df.apply(count_lower_mis, axis=1)\n",
    "            \n",
    "            df['best_part'] = df.apply(get_best_value, axis=1)\n",
    "\n",
    "            df['Normalized'] = df.apply(lambda x: x['subject'][x['lower_diff']:-x['upper_diff']] \\\n",
    "                                        if x['upper_diff'] != 0 else x['subject'][x['lower_diff']:], axis=1)\n",
    "            df['Final'] = df['Normalized'] + df['best_part']  \n",
    "            out = ''.join(df['Final'])\n",
    "            res.write('>' + filename + '\\n' + out + '\\n')\n",
    "        elif len(df.index) == 0:\n",
    "            pass\n",
    "        else:\n",
    "            out = ''.join(df['subject'])\n",
    "            res.write('>' + filename + '\\n' + out + '\\n')\n",
    "        df.to_csv(RES_DIR + blast_output + '.csv')"
   ]
  },
  {
   "cell_type": "code",
   "execution_count": 6,
   "id": "02ce8178",
   "metadata": {},
   "outputs": [
    {
     "name": "stdout",
     "output_type": "stream",
     "text": [
      "tt\n"
     ]
    }
   ],
   "source": [
    "x = 'dddaaattt'\n",
    "print(x[-2:])\n"
   ]
  },
  {
   "cell_type": "code",
   "execution_count": 9,
   "id": "2669b572",
   "metadata": {},
   "outputs": [
    {
     "name": "stdout",
     "output_type": "stream",
     "text": [
      "DHHVWBUJ01N-Alignment.xml\n",
      "DHGMCGAR016-Alignment.xml\n",
      "DHFC17WX016-Alignment.xml\n"
     ]
    }
   ],
   "source": [
    "for blast_output in os.listdir(TMP_DIR):\n",
    "    print(blast_output)\n",
    "    parse_results(blast_output)\n",
    "    "
   ]
  },
  {
   "cell_type": "code",
   "execution_count": null,
   "id": "fdfa46fd",
   "metadata": {},
   "outputs": [],
   "source": []
  },
  {
   "cell_type": "code",
   "execution_count": null,
   "id": "d458d8f5",
   "metadata": {},
   "outputs": [],
   "source": []
  },
  {
   "cell_type": "code",
   "execution_count": 119,
   "id": "61505d91",
   "metadata": {},
   "outputs": [],
   "source": []
  },
  {
   "cell_type": "code",
   "execution_count": 120,
   "id": "071e636c",
   "metadata": {},
   "outputs": [],
   "source": []
  },
  {
   "cell_type": "code",
   "execution_count": null,
   "id": "29e66552",
   "metadata": {},
   "outputs": [],
   "source": []
  },
  {
   "cell_type": "code",
   "execution_count": 130,
   "id": "24bc38a5",
   "metadata": {},
   "outputs": [],
   "source": [
    "\n"
   ]
  },
  {
   "cell_type": "code",
   "execution_count": null,
   "id": "bedcbab5",
   "metadata": {},
   "outputs": [],
   "source": []
  },
  {
   "cell_type": "code",
   "execution_count": 5,
   "id": "7741fe65",
   "metadata": {},
   "outputs": [],
   "source": []
  },
  {
   "cell_type": "code",
   "execution_count": null,
   "id": "e2d73f09",
   "metadata": {},
   "outputs": [],
   "source": []
  },
  {
   "cell_type": "code",
   "execution_count": 7,
   "id": "c8de1dde",
   "metadata": {},
   "outputs": [],
   "source": []
  },
  {
   "cell_type": "code",
   "execution_count": null,
   "id": "4b32a1e9",
   "metadata": {},
   "outputs": [],
   "source": []
  },
  {
   "cell_type": "code",
   "execution_count": 15,
   "id": "924584ea",
   "metadata": {},
   "outputs": [],
   "source": []
  },
  {
   "cell_type": "code",
   "execution_count": null,
   "id": "6fd5f04a",
   "metadata": {},
   "outputs": [],
   "source": []
  },
  {
   "cell_type": "code",
   "execution_count": null,
   "id": "b9360897",
   "metadata": {},
   "outputs": [],
   "source": []
  },
  {
   "cell_type": "code",
   "execution_count": 61,
   "id": "6901c260",
   "metadata": {},
   "outputs": [],
   "source": []
  },
  {
   "cell_type": "code",
   "execution_count": null,
   "id": "be095658",
   "metadata": {},
   "outputs": [],
   "source": []
  },
  {
   "cell_type": "code",
   "execution_count": null,
   "id": "38d3d660",
   "metadata": {},
   "outputs": [],
   "source": []
  },
  {
   "cell_type": "code",
   "execution_count": 64,
   "id": "d25c2de2",
   "metadata": {},
   "outputs": [],
   "source": []
  },
  {
   "cell_type": "code",
   "execution_count": 65,
   "id": "ac3f5752",
   "metadata": {},
   "outputs": [],
   "source": []
  },
  {
   "cell_type": "code",
   "execution_count": null,
   "id": "bf215d49",
   "metadata": {},
   "outputs": [],
   "source": []
  },
  {
   "cell_type": "code",
   "execution_count": 67,
   "id": "2ac13398",
   "metadata": {},
   "outputs": [],
   "source": []
  },
  {
   "cell_type": "code",
   "execution_count": null,
   "id": "51fdb182",
   "metadata": {},
   "outputs": [],
   "source": []
  },
  {
   "cell_type": "code",
   "execution_count": 69,
   "id": "87eeda97",
   "metadata": {},
   "outputs": [],
   "source": []
  },
  {
   "cell_type": "code",
   "execution_count": null,
   "id": "c0e805b8",
   "metadata": {},
   "outputs": [],
   "source": []
  },
  {
   "cell_type": "code",
   "execution_count": 71,
   "id": "c180f85b",
   "metadata": {},
   "outputs": [],
   "source": []
  },
  {
   "cell_type": "code",
   "execution_count": null,
   "id": "8bba71d4",
   "metadata": {},
   "outputs": [],
   "source": []
  },
  {
   "cell_type": "code",
   "execution_count": null,
   "id": "b144f6df",
   "metadata": {},
   "outputs": [],
   "source": []
  },
  {
   "cell_type": "code",
   "execution_count": null,
   "id": "9818e0ab",
   "metadata": {},
   "outputs": [],
   "source": []
  },
  {
   "cell_type": "code",
   "execution_count": null,
   "id": "d1d1e3c8",
   "metadata": {},
   "outputs": [],
   "source": []
  },
  {
   "cell_type": "code",
   "execution_count": null,
   "id": "5ef85496",
   "metadata": {},
   "outputs": [],
   "source": []
  },
  {
   "cell_type": "code",
   "execution_count": null,
   "id": "fadd0efd",
   "metadata": {},
   "outputs": [],
   "source": []
  },
  {
   "cell_type": "code",
   "execution_count": null,
   "id": "19afadf5",
   "metadata": {},
   "outputs": [],
   "source": []
  },
  {
   "cell_type": "code",
   "execution_count": null,
   "id": "03173e50",
   "metadata": {},
   "outputs": [],
   "source": []
  },
  {
   "cell_type": "code",
   "execution_count": null,
   "id": "b3c54bee",
   "metadata": {},
   "outputs": [],
   "source": []
  },
  {
   "cell_type": "code",
   "execution_count": null,
   "id": "c6c90733",
   "metadata": {},
   "outputs": [],
   "source": []
  },
  {
   "cell_type": "code",
   "execution_count": null,
   "id": "6797e13f",
   "metadata": {},
   "outputs": [],
   "source": []
  },
  {
   "cell_type": "code",
   "execution_count": null,
   "id": "3613012a",
   "metadata": {},
   "outputs": [],
   "source": []
  },
  {
   "cell_type": "code",
   "execution_count": 148,
   "id": "52454bed",
   "metadata": {},
   "outputs": [
    {
     "name": "stdout",
     "output_type": "stream",
     "text": [
      "****Alignment****\n",
      "sequence: CM053051.1 CM053051.1 Eubalaena glacialis isolate mEubGla1 chromosome 13, whole genome shotgun sequence \n",
      "\n",
      "length: 94980359 \n",
      "\n",
      "start: 630 \n",
      "\n",
      "end: 1506 \n",
      "\n",
      "score: 736.0 \n",
      "\n",
      "gaps: 0 \n",
      "\n",
      "AGATGACCGAGGTCCCGTGGTCAGGAAGCAGAGGTACGTGTTTGACATTAGTGCCCTGGAGAAGGATGGGCTGCTGGGGGCCGAGCTGCGGATCTTGCGGAAGAAGCCCTCGGACACGGCCAAGCCAGCGGCCCCCGGAGGCGGGCGGGCTGCCCAGCTGAAGCTGTCCAGCTGCCCCAGCGGCCGGCAGCCGGCCGCCTTGCTGGATGTGCGCTCCGTGCCAGGCCTGGACGGATCTGGCTGGGAGGTGTTCGACATCTGGAAGCTCTTCCGAAACTTTAAGAACTCGGCCCAGCTGTGCCTGGAGCTGGAGGCCTGGGAACGGGGCAGGGCCGTGGACCTCCGTGGCCTGGGCTTCGACCGCGCCGCCCGGCAGGTCCACGAGAAAGCCCTGTTCCTGGTGTTTGGCCGCACCAAGAAACGGGACCTGTTCTTTAATGAGATTAAGGCCCGCTCTGGCCAGGACGATAAGACCGTGTATGAGTACCTGTTCAGCCAGCGGCGAAAACGGCGGGCCCCACTGGCCACTCGCCAGGGCAAGCGACCCAGCAAGAACCTTAAGGCTCGCTGCAGTCGGAAGGCACTGCATGTCAACTTCAAGGACATGGGCTGGGACGACTGGATCATCGCACCCCTTGAGTACGAGGCTTTCCACTGCGAGGGGCTGTGCGAGTTCCCATTGCGCTCCCACCTGGAGCCCACGAATCATGCAGTCATCCAGACCCTGATGAACTCCATGGACCCCGAGTCCACACCACCCACCTGCTGTGTGCCCACGCGGCTGAGTCCCATCAGCATCCTCTTCATTGACTCTGCCAACAACGTGGTGTATAAGCAGTATGAGGACATGGTCGTGGAGTCGTGTGGCTGCAGGTAG\n",
      "\n",
      "||||||||||||||| | ||||||||||||||||||||||||||||||||| |||||||||||||||||||| || ||||||||||||||||||||||||||||||||||||||||| || ||||||| |||||| ||  | ||||| |||||||||||||||||||||||||||||||||||||| |||||||| ||||||||||||||||| ||| ||||||||||||| |||||||||||||||||||||||||||||||||||||||||||||||||||||||||||||||||||||||||||||||||||||||||||||||| |||||||||||||||||||||||||||| ||||| || |||||||||||||| ||||| |||||||||||||||||||||||||||||||||||||||||||||||||||||||||||||||||||||||||| || |||||||||||||| |||||||||||||||||||||||||| |||||||||||||||||||| || ||||||||||| |||||||||||||  ||||| ||||||||||||||||| ||||||||||||||||||||||||||||||||||||||||| ||||| ||||| ||||||||||| ||||||||||||||||| |||||||||||  ||||||||||||||||||||||||| |||||||||||||||||||||||||||||||||||||||||||||||||||||||||||||||||||| |||||||||||||||||||||||||||||||||||||| |||||||||||||| |||||||||||||||||||||||||||||||| |||||||||||||||\n",
      "\n",
      "AGATGACCGAGGTCCTGCGGTCAGGAAGCAGAGGTACGTGTTTGACATTAGCGCCCTGGAGAAGGATGGGCTACTAGGGGCCGAGCTGCGGATCTTGCGGAAGAAGCCCTCGGACACAGCTAAGCCAGTGGCCCCTGGCAGTGGGCGAGCTGCCCAGCTGAAGCTGTCCAGCTGCCCCAGCGGCCGACAGCCGGCAGCCTTGCTGGATGTGCGTTCCTTGCCAGGCCTGGATGGATCTGGCTGGGAGGTGTTCGACATCTGGAAGCTCTTCCGAAACTTTAAGAACTCGGCCCAGCTGTGCCTGGAGCTGGAGGCCTGGGAACGGGGCCGGGCCGTGGACCTCCGTGGCCTGGGCTTTGACCGGGCTGCCCGGCAGGTCCATGAGAAGGCCCTGTTCCTGGTGTTTGGCCGCACCAAGAAACGGGACCTGTTCTTTAATGAGATTAAGGCCCGCTCTGGCCAAGATGATAAGACCGTGTACGAGTACCTGTTCAGCCAGCGGCGAAAGCGGCGGGCCCCACTGGCCACGCGTCAGGGCAAGCGGCCCAGCAAGAACCCCAAGGCCCGCTGCAGTCGGAAGGCGCTGCATGTCAACTTCAAGGACATGGGCTGGGACGACTGGATTATCGCGCCCCTGGAGTACGAGGCCTTCCACTGCGAGGGGCTATGCGAGTTCCCCCTGCGCTCCCACCTGGAGCCCACGAACCATGCAGTCATCCAGACCCTGATGAACTCCATGGACCCCGAGTCCACACCACCCACCTGCTGTGTGCCAACGCGGCTGAGTCCCATCAGCATCCTCTTCATTGACTCCGCCAACAACGTGGTCTATAAGCAGTATGAGGACATGGTCGTGGAGTCTTGTGGCTGCAGGTAG\n",
      "\n",
      "****Alignment****\n",
      "sequence: CM053051.1 CM053051.1 Eubalaena glacialis isolate mEubGla1 chromosome 13, whole genome shotgun sequence \n",
      "\n",
      "length: 94980359 \n",
      "\n",
      "start: 1 \n",
      "\n",
      "end: 635 \n",
      "\n",
      "score: 497.0 \n",
      "\n",
      "gaps: 6 \n",
      "\n",
      "ATGAGACTCCCCAAACTCCTCACTTTCTTGCTTTGGTACCTGGCTTGGCTGGACCTGGAATTCATCTGCACTGTGTTGGGTGCCCCTGACTTGGGCCAGAGACCCCAGGGGACCAGGCCAGGATTGGCCAAAGCAGAGGCCAAGGAGAGGCCCCCCCTGGCCCGGAACGTCTTCAGGCCAGGGGGTCACAGCTATGGTGGGGGGGCCACCAATGCCAATGCCAGGGCAAAGGGAGGCACCGGGCAGACAGGAGGCCTGACACAGCCCAAGAAGGATGAACCCAAAAAGCTGCCCCCCAGACCGGGCGGCCCTGAACCCAAGCCAGGACACCCTCCCCAAACAAGGCAGGCTACAGCCCGGACTGTGACCCCAAAAGGACAGCTTCCCGGAGGCAAGGCACCCCCAAAAGCAGGATCTGTCCCCAGCTCCTTCCTGCTGAAGAAGGCCAGGGAGCCCGGGCCCCCACGAGAGCCCAAGGAGCCGTTTCGCCCACCCCCCATCACACCCCACGAGTACATGCTCTCGCTGTACAGGACGCTGTCCGATGCTGACAGAAAGGGAGGCAACAGCAGCGTGAAGTTGGAGGCTGGCCTGGCCAACACCATCACCAGCTTTATTGACAAAGGGCAAGATGA\n",
      "\n",
      "||||||||||||||| |||||||||||||||||||| |||||||||||||||||||||||||||||||||||||||||||||||||||||||||||||||||||||||||| ||||||||||||||||||||||||| ||||||||||||||||| ||||||| |||| |||||||||| ||||||||||||||  ||||||||||||      ||||||||||||||||||| ||||| ||||||||||||| ||||||||||||||||||||||||| |||||||||||||||||||| |||| |||||||||||||||||||||||||||||||| |||||||||||| || | ||||||||||||||||||||||| ||| | || || |||||||| ||||| |||||||||||||||||| ||||||||||||||||||||||||| || ||| |||| ||||||||||||||||| || ||||| ||||||||||| |||||||| |||||||||||||||||||||||||||||||| ||||||||||||||||||||||||||||||||||||||||||||||||||||||||||||||||||||||||||||||||||||| |||\n",
      "\n",
      "ATGAGACTCCCCAAAGTCCTCACTTTCTTGCTTTGGCACCTGGCTTGGCTGGACCTGGAATTCATCTGCACTGTGTTGGGTGCCCCTGACTTGGGCCAGAGACCCCAGGGGGCCAGGCCAGGATTGGCCAAAGCAGAAGCCAAGGAGAGGCCCCCTCTGGCCCAGAACATCTTCAGGCCGGGGGGTCACAGCTACAGTGGGGGGGCCA------CCAATGCCAGGGCAAAGGGGGGCACGGGGCAGACAGGAGCCCTGACACAGCCCAAGAAGGATGAATCCAAAAAGCTGCCCCCCAGATCGGGTGGCCCTGAACCCAAGCCAGGACACCCTCCCCAGACAAGGCAGGCTGCAACGCGGACTGTGACCCCAAAAGGACACCTTTCTGGGGGTAAGGCACCACCAAAGGCAGGATCTGTCCCCAGCCCCTTCCTGCTGAAGAAGGCCAGGGAACCTGGGTCCCCTCGAGAGCCCAAGGAGCCATTCCGCCCGCCCCCCATCACGCCCCACGAATACATGCTCTCGCTGTACAGGACGCTGTCCGAGGCTGACAGAAAGGGAGGCAACAGCAGCGTGAAGTTGGAGGCTGGCCTGGCCAACACCATCACCAGCTTTATTGACAAAGGGCAAGGTGA\n",
      "\n",
      "****Alignment****\n",
      "sequence: CM053055.1 CM053055.1 Eubalaena glacialis isolate mEubGla1 chromosome 17, whole genome shotgun sequence \n",
      "\n",
      "length: 89546647 \n",
      "\n",
      "start: 1159 \n",
      "\n",
      "end: 1506 \n",
      "\n",
      "score: 168.0 \n",
      "\n",
      "gaps: 2 \n",
      "\n",
      "CGCCAGGGCAAGCGACCCAGCAAGAACCTTAAGGCT-CGCTGCAGTCGGAAGGCACTGCATGTCAACTTCAAGGACATGGGCTGGGACGACTGGATCATCGCACCCCTTGAGTACGAGGCTTTCCACTGCGAGGGGCTGTGCGAGTTCCCATTGCGCTCCCACCTGGAGCCCACGAATCATGCAGTCATCCAGACCCTGATGAACTCCATGGACCCCGAGTCCACACCACCCACCTGCTGTGTGCCCACGCGGCTGAGTCCCATCAGCATCCTCTTCATTGACTCTGCCAACAACGTGGTGTATAAGCAGTATGAGGACATGGTCGTGGAGTCGTGTGGCTGCAGGTAG\n",
      "\n",
      "||||| |||||||| | | |||||||  |  ||||| ||||||||   |||| | ||||| || |||||||||||  ||||||||||||||||||| ||||| ||||| ||||||||||| | ||||||||| ||  ||||||| ||||| |||||||| |||||||||||||| || || ||  |||||||||| ||||||||||||||||||||||  || || || |||| |||||| ||||||||    |||| ||||||||||||||| | ||| ||| | | ||| |||||||| || |||||||| ||||||||||| |||||||| || ||||||||||||\n",
      "\n",
      "CGCCACGGCAAGCGGCACGGCAAGAA-GTCGAGGCTGCGCTGCAGCAAGAAGCCCCTGCACGTGAACTTCAAGGAGCTGGGCTGGGACGACTGGATTATCGCGCCCCTGGAGTACGAGGCCTACCACTGCGAAGGCGTGTGCGACTTCCCGTTGCGCTCGCACCTGGAGCCCACCAACCACGCCATCATCCAGACGCTGATGAACTCCATGGACCCCGGCTCTACCCCGCCCAGCTGCTGCGTGCCCACCAAACTGACTCCCATCAGCATCCTGTACATCGACGCGGGCAATAACGTGGTCTACAAGCAGTACGAGGACATGGTGGTGGAGTCCTGCGGCTGCAGGTAG\n",
      "\n",
      "****Alignment****\n",
      "sequence: CM053052.1 CM053052.1 Eubalaena glacialis isolate mEubGla1 chromosome 14, whole genome shotgun sequence \n",
      "\n",
      "length: 94679649 \n",
      "\n",
      "start: 1195 \n",
      "\n",
      "end: 1506 \n",
      "\n",
      "score: 129.0 \n",
      "\n",
      "gaps: 0 \n",
      "\n",
      "CGCTGCAGTCGGAAGGCACTGCATGTCAACTTCAAGGACATGGGCTGGGACGACTGGATCATCGCACCCCTTGAGTACGAGGCTTTCCACTGCGAGGGGCTGTGCGAGTTCCCATTGCGCTCCCACCTGGAGCCCACGAATCATGCAGTCATCCAGACCCTGATGAACTCCATGGACCCCGAGTCCACACCACCCACCTGCTGTGTGCCCACGCGGCTGAGTCCCATCAGCATCCTCTTCATTGACTCTGCCAACAACGTGGTGTATAAGCAGTATGAGGACATGGTCGTGGAGTCGTGTGGCTGCAGGTAG\n",
      "\n",
      "||||| || || ||| | ||||| ||  ||||||||||  ||||||||||||||||||||||||| || || || ||||| || | ||||||||||||  | ||||| |||||  ||||||| ||||| |||||||| || || ||  |||| ||||| ||| | ||||||||||  || ||  || | ||  || ||||||| |||||| | || || || |||||||||||||||| ||| ||| | |||||||||||||| || ||||| || ||||||||||| |||||| |||| ||||||||||||\n",
      "\n",
      "CGCTGTAGCCGCAAGCCCCTGCACGTGGACTTCAAGGAGCTGGGCTGGGACGACTGGATCATCGCGCCGCTGGACTACGAAGCGTACCACTGCGAGGGCGTTTGCGACTTCCCGCTGCGCTCGCACCTTGAGCCCACCAACCACGCCATCATTCAGACACTGCTCAACTCCATGGCGCCGGATGCCGCGCCGGCCTCCTGCTGCGTGCCCGCTCGCCTCAGCCCCATCAGCATCCTCTACATCGACGCCGCCAACAACGTGGTCTACAAGCAATACGAGGACATGGTGGTGGAGGCGTGCGGCTGCAGGTAG\n",
      "\n"
     ]
    }
   ],
   "source": [
    "\n",
    "for alignment in blast_record.alignments:\n",
    "    for hsp in alignment.hsps:\n",
    "        if hsp.score > 100:\n",
    "            print('****Alignment****')\n",
    "            print('sequence: {title} \\n'.format(title=str(alignment.title)))\n",
    "            print('length: {length} \\n'.format(length=str(alignment.length)))\n",
    "            print('start: {q_start} \\n'.format(q_start=str(hsp.query_start)))\n",
    "            print('end: {q_end} \\n'.format(q_end=str(hsp.query_end)))\n",
    "            print('score: {score} \\n'.format(score=str(hsp.score)))\n",
    "            print('gaps: {gaps} \\n'.format(gaps=str(hsp.gaps)))\n",
    "            print(hsp.query + '\\n')\n",
    "            print(hsp.match + '\\n')\n",
    "            print(hsp.sbjct + '\\n')"
   ]
  },
  {
   "cell_type": "code",
   "execution_count": 3,
   "id": "d7c58e55",
   "metadata": {},
   "outputs": [],
   "source": []
  },
  {
   "cell_type": "code",
   "execution_count": 5,
   "id": "a157b85c",
   "metadata": {},
   "outputs": [],
   "source": []
  },
  {
   "cell_type": "code",
   "execution_count": 6,
   "id": "6b2e68c4",
   "metadata": {},
   "outputs": [],
   "source": []
  },
  {
   "cell_type": "code",
   "execution_count": null,
   "id": "e817670d",
   "metadata": {},
   "outputs": [],
   "source": []
  },
  {
   "cell_type": "code",
   "execution_count": 9,
   "id": "19a5790e",
   "metadata": {},
   "outputs": [],
   "source": []
  },
  {
   "cell_type": "code",
   "execution_count": null,
   "id": "d69a1bdd",
   "metadata": {},
   "outputs": [],
   "source": []
  },
  {
   "cell_type": "code",
   "execution_count": null,
   "id": "ba1acad9",
   "metadata": {},
   "outputs": [],
   "source": []
  },
  {
   "cell_type": "code",
   "execution_count": null,
   "id": "e54324f0",
   "metadata": {},
   "outputs": [],
   "source": []
  },
  {
   "cell_type": "code",
   "execution_count": null,
   "id": "d34d8ec1",
   "metadata": {},
   "outputs": [],
   "source": []
  },
  {
   "cell_type": "code",
   "execution_count": null,
   "id": "eec97f2d",
   "metadata": {},
   "outputs": [],
   "source": []
  },
  {
   "cell_type": "code",
   "execution_count": null,
   "id": "f2709b88",
   "metadata": {},
   "outputs": [],
   "source": []
  },
  {
   "cell_type": "code",
   "execution_count": null,
   "id": "67733bba",
   "metadata": {},
   "outputs": [],
   "source": []
  },
  {
   "cell_type": "code",
   "execution_count": null,
   "id": "bf56b430",
   "metadata": {},
   "outputs": [],
   "source": []
  },
  {
   "cell_type": "code",
   "execution_count": null,
   "id": "43d94429",
   "metadata": {},
   "outputs": [],
   "source": []
  },
  {
   "cell_type": "code",
   "execution_count": null,
   "id": "e7102a73",
   "metadata": {},
   "outputs": [],
   "source": []
  }
 ],
 "metadata": {
  "kernelspec": {
   "display_name": "Python 3",
   "language": "python",
   "name": "python3"
  },
  "language_info": {
   "codemirror_mode": {
    "name": "ipython",
    "version": 3
   },
   "file_extension": ".py",
   "mimetype": "text/x-python",
   "name": "python",
   "nbconvert_exporter": "python",
   "pygments_lexer": "ipython3",
   "version": "3.8.10"
  }
 },
 "nbformat": 4,
 "nbformat_minor": 5
}
