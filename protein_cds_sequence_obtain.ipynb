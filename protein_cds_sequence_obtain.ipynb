{
 "cells": [
  {
   "cell_type": "code",
   "execution_count": 1,
   "id": "13337ee7",
   "metadata": {},
   "outputs": [],
   "source": [
    "import os\n",
    "import numpy as np\n",
    "import pandas as pd\n",
    "\n",
    "\n",
    "from Bio import Entrez\n",
    "from Bio import SeqIO\n",
    "from urllib.request import HTTPError\n",
    "from urllib.request import urlopen\n",
    "import time\n",
    "Entrez.email = 'valeriia.dccclxiv@gmail.com'"
   ]
  },
  {
   "cell_type": "code",
   "execution_count": 2,
   "id": "2b29b8b4",
   "metadata": {},
   "outputs": [],
   "source": [
    "DIR_NAME = ('/home/vlr/Documents/Projects/Zoology/Gene_and_morphology_projects/Limb_morphology_project/')"
   ]
  },
  {
   "cell_type": "code",
   "execution_count": null,
   "id": "f28e334d",
   "metadata": {},
   "outputs": [],
   "source": []
  },
  {
   "cell_type": "code",
   "execution_count": 3,
   "id": "8596d58d",
   "metadata": {},
   "outputs": [],
   "source": [
    "target_list = pd.read_csv(DIR_NAME + 'species_list.csv')\n"
   ]
  },
  {
   "cell_type": "code",
   "execution_count": 4,
   "id": "905d44da",
   "metadata": {},
   "outputs": [
    {
     "data": {
      "text/html": [
       "<div>\n",
       "<style scoped>\n",
       "    .dataframe tbody tr th:only-of-type {\n",
       "        vertical-align: middle;\n",
       "    }\n",
       "\n",
       "    .dataframe tbody tr th {\n",
       "        vertical-align: top;\n",
       "    }\n",
       "\n",
       "    .dataframe thead th {\n",
       "        text-align: right;\n",
       "    }\n",
       "</style>\n",
       "<table border=\"1\" class=\"dataframe\">\n",
       "  <thead>\n",
       "    <tr style=\"text-align: right;\">\n",
       "      <th></th>\n",
       "      <th>Species</th>\n",
       "      <th>Genes</th>\n",
       "    </tr>\n",
       "  </thead>\n",
       "  <tbody>\n",
       "    <tr>\n",
       "      <th>0</th>\n",
       "      <td>Eubalaena glacialis</td>\n",
       "      <td>DRD1</td>\n",
       "    </tr>\n",
       "    <tr>\n",
       "      <th>1</th>\n",
       "      <td>Grampus griseus</td>\n",
       "      <td>CHRM2</td>\n",
       "    </tr>\n",
       "    <tr>\n",
       "      <th>2</th>\n",
       "      <td>Platanista minor</td>\n",
       "      <td>UBIAD1</td>\n",
       "    </tr>\n",
       "    <tr>\n",
       "      <th>3</th>\n",
       "      <td>Platanista gangetica</td>\n",
       "      <td>GPR61</td>\n",
       "    </tr>\n",
       "    <tr>\n",
       "      <th>4</th>\n",
       "      <td>Mesoplodon bidens</td>\n",
       "      <td>CBX5</td>\n",
       "    </tr>\n",
       "    <tr>\n",
       "      <th>...</th>\n",
       "      <td>...</td>\n",
       "      <td>...</td>\n",
       "    </tr>\n",
       "    <tr>\n",
       "      <th>93</th>\n",
       "      <td>NaN</td>\n",
       "      <td>F2RL2</td>\n",
       "    </tr>\n",
       "    <tr>\n",
       "      <th>94</th>\n",
       "      <td>NaN</td>\n",
       "      <td>F2RL1</td>\n",
       "    </tr>\n",
       "    <tr>\n",
       "      <th>95</th>\n",
       "      <td>NaN</td>\n",
       "      <td>PTHLH</td>\n",
       "    </tr>\n",
       "    <tr>\n",
       "      <th>96</th>\n",
       "      <td>NaN</td>\n",
       "      <td>RASSF8</td>\n",
       "    </tr>\n",
       "    <tr>\n",
       "      <th>97</th>\n",
       "      <td>NaN</td>\n",
       "      <td>CRX</td>\n",
       "    </tr>\n",
       "  </tbody>\n",
       "</table>\n",
       "<p>98 rows × 2 columns</p>\n",
       "</div>"
      ],
      "text/plain": [
       "                 Species   Genes\n",
       "0    Eubalaena glacialis    DRD1\n",
       "1        Grampus griseus   CHRM2\n",
       "2       Platanista minor  UBIAD1\n",
       "3   Platanista gangetica   GPR61\n",
       "4      Mesoplodon bidens    CBX5\n",
       "..                   ...     ...\n",
       "93                   NaN   F2RL2\n",
       "94                   NaN   F2RL1\n",
       "95                   NaN   PTHLH\n",
       "96                   NaN  RASSF8\n",
       "97                   NaN     CRX\n",
       "\n",
       "[98 rows x 2 columns]"
      ]
     },
     "execution_count": 4,
     "metadata": {},
     "output_type": "execute_result"
    }
   ],
   "source": [
    "target_list"
   ]
  },
  {
   "cell_type": "code",
   "execution_count": 5,
   "id": "a211f5ac",
   "metadata": {},
   "outputs": [],
   "source": [
    "species = target_list['Species'].to_list()\n",
    "species = [sp for sp in species if str(sp) != 'nan']"
   ]
  },
  {
   "cell_type": "code",
   "execution_count": 6,
   "id": "e3970d97",
   "metadata": {},
   "outputs": [
    {
     "data": {
      "text/plain": [
       "['Eubalaena glacialis',\n",
       " 'Grampus griseus',\n",
       " 'Platanista minor',\n",
       " 'Platanista gangetica',\n",
       " 'Mesoplodon bidens',\n",
       " 'Mesoplodon densirostris',\n",
       " 'Ziphius cavirostris',\n",
       " 'Lipotes vexillifer',\n",
       " 'Pontoporia blainvillei',\n",
       " 'Inia geoffrensis',\n",
       " 'Monodon monoceros',\n",
       " 'Delphinapterus leucas',\n",
       " 'Phocoena phocoena',\n",
       " 'Phocoena sinus',\n",
       " 'Sousa chinensis',\n",
       " 'Hyperoodon ampullatus',\n",
       " 'Neophocaena asiaeorientalis',\n",
       " 'Globicephala melas',\n",
       " 'Orcinus orca',\n",
       " 'Lagenorhynchus obliquidens',\n",
       " 'Tursiops truncatus',\n",
       " 'Tursiops aduncus',\n",
       " 'Balaenoptera musculus',\n",
       " 'Eubalaena japonica',\n",
       " 'Balaena mysticetus',\n",
       " 'Balaenoptera physalus',\n",
       " 'Balaenoptera ricei',\n",
       " 'Balaenoptera bonaerensis',\n",
       " 'Balaenoptera acutorostrata',\n",
       " 'Megaptera novaeangliae',\n",
       " 'Kogia breviceps',\n",
       " 'Physeter catodon',\n",
       " 'Hippopotamus amphibius',\n",
       " 'Ovis aries',\n",
       " 'Bos taurus',\n",
       " 'Sus scrofa',\n",
       " 'Felis catus',\n",
       " 'Ailuropoda melanoleuca',\n",
       " 'Ursus arctos',\n",
       " 'Enhydra lutris',\n",
       " 'Odobenus rosmarus',\n",
       " 'Zalophus californianus',\n",
       " 'Mirounga anguirostris',\n",
       " 'Rhinolophus ferrumequinum',\n",
       " 'Myotis myotis',\n",
       " 'Macrotus californicus',\n",
       " 'Pteropus vampyrus',\n",
       " 'Condylura cristata',\n",
       " 'Mus musculus',\n",
       " 'Jaculus jaculus',\n",
       " 'Cavia porcellus',\n",
       " 'Castor canadensis',\n",
       " 'Heterocephalus glaber',\n",
       " 'Otolemur garnettii',\n",
       " 'Homo sapiens',\n",
       " 'Loxodonta africana',\n",
       " 'Elephas maximus',\n",
       " 'Elephantulus edwardii',\n",
       " 'Orycteropus afer',\n",
       " 'Dugong dugon',\n",
       " 'Trichechus manatus',\n",
       " 'Tolypeutes matacus',\n",
       " 'Dasypus novemcinctus',\n",
       " 'Choloepus didactylus']"
      ]
     },
     "execution_count": 6,
     "metadata": {},
     "output_type": "execute_result"
    }
   ],
   "source": [
    "species"
   ]
  },
  {
   "cell_type": "code",
   "execution_count": null,
   "id": "95b1edb3",
   "metadata": {},
   "outputs": [],
   "source": [
    "genes = genelist['Genes'].to_list()"
   ]
  },
  {
   "cell_type": "code",
   "execution_count": 10,
   "id": "1db416a4",
   "metadata": {},
   "outputs": [
    {
     "ename": "FileExistsError",
     "evalue": "[Errno 17] File exists: 'additional_genes'",
     "output_type": "error",
     "traceback": [
      "\u001b[0;31m---------------------------------------------------------------------------\u001b[0m",
      "\u001b[0;31mFileExistsError\u001b[0m                           Traceback (most recent call last)",
      "\u001b[0;32m<ipython-input-10-bc39d717ea90>\u001b[0m in \u001b[0;36m<module>\u001b[0;34m\u001b[0m\n\u001b[0;32m----> 1\u001b[0;31m \u001b[0mos\u001b[0m\u001b[0;34m.\u001b[0m\u001b[0mmkdir\u001b[0m\u001b[0;34m(\u001b[0m\u001b[0;34m'additional_genes'\u001b[0m\u001b[0;34m)\u001b[0m\u001b[0;34m\u001b[0m\u001b[0;34m\u001b[0m\u001b[0m\n\u001b[0m",
      "\u001b[0;31mFileExistsError\u001b[0m: [Errno 17] File exists: 'additional_genes'"
     ]
    }
   ],
   "source": [
    "os.mkdir('additional_genes')"
   ]
  },
  {
   "cell_type": "markdown",
   "id": "194f36ce",
   "metadata": {},
   "source": [
    "# Obtain protein (cds) sequence"
   ]
  },
  {
   "cell_type": "code",
   "execution_count": 7,
   "id": "e4a0c4be",
   "metadata": {},
   "outputs": [
    {
     "ename": "NameError",
     "evalue": "name 'genes' is not defined",
     "output_type": "error",
     "traceback": [
      "\u001b[0;31m---------------------------------------------------------------------------\u001b[0m",
      "\u001b[0;31mNameError\u001b[0m                                 Traceback (most recent call last)",
      "\u001b[0;32m<ipython-input-7-fd24a2436cfe>\u001b[0m in \u001b[0;36m<module>\u001b[0;34m\u001b[0m\n\u001b[1;32m      1\u001b[0m \u001b[0mmiss_dict\u001b[0m \u001b[0;34m=\u001b[0m \u001b[0;34m{\u001b[0m\u001b[0;34m}\u001b[0m\u001b[0;34m\u001b[0m\u001b[0;34m\u001b[0m\u001b[0m\n\u001b[1;32m      2\u001b[0m \u001b[0;34m\u001b[0m\u001b[0m\n\u001b[0;32m----> 3\u001b[0;31m \u001b[0;32mfor\u001b[0m \u001b[0mgene\u001b[0m \u001b[0;32min\u001b[0m \u001b[0mgenes\u001b[0m\u001b[0;34m:\u001b[0m\u001b[0;34m\u001b[0m\u001b[0;34m\u001b[0m\u001b[0m\n\u001b[0m\u001b[1;32m      4\u001b[0m     \u001b[0mprint\u001b[0m\u001b[0;34m(\u001b[0m\u001b[0mgene\u001b[0m\u001b[0;34m)\u001b[0m\u001b[0;34m\u001b[0m\u001b[0;34m\u001b[0m\u001b[0m\n\u001b[1;32m      5\u001b[0m     \u001b[0mmissed\u001b[0m \u001b[0;34m=\u001b[0m \u001b[0;34m[\u001b[0m\u001b[0;34m]\u001b[0m\u001b[0;34m\u001b[0m\u001b[0;34m\u001b[0m\u001b[0m\n",
      "\u001b[0;31mNameError\u001b[0m: name 'genes' is not defined"
     ]
    }
   ],
   "source": [
    "miss_dict = {}\n",
    "\n",
    "for gene in genes:\n",
    "    print(gene)\n",
    "    missed = []\n",
    "    with open('cds_results/' + gene + '_cds.txt', 'a') as res:\n",
    "        for specie in species:\n",
    "                        \n",
    "            handle = Entrez.esearch(db='protein', term = specie +'[Orgn] AND ' + gene + '[Gene] AND RefSeq[Filter]')\n",
    "            record = Entrez.read(handle)\n",
    "            identifier = record['IdList']\n",
    "            if not identifier:\n",
    "                missed.append(specie)\n",
    "            else:\n",
    "                proteins = []\n",
    "                for i in identifier:\n",
    "                    handle = Entrez.efetch(db='protein', rettype='fasta_cds_na', retmode='text',\n",
    "                          id=identifier)\n",
    "                    proteins.append(handle.read())\n",
    "                string = ''.join(proteins)\n",
    "                sequences = string.split('\\n\\n')\n",
    "                sequences.remove('')\n",
    "                sequences = list(dict.fromkeys(sequences))\n",
    "                for i in sequences:\n",
    "                    res.write('>' + specie)\n",
    "                    res.write(i + '\\n')\n",
    "    miss_dict[gene] = missed\n",
    "    \n",
    "missed_df = pd.DataFrame.from_dict(miss_dict, orient='index').transpose()\n",
    "missed_df.to_csv('missed_cds.csv')"
   ]
  },
  {
   "cell_type": "markdown",
   "id": "8e43cddf",
   "metadata": {},
   "source": [
    "# Get cds for one species (Dasypus novemcinctus)"
   ]
  },
  {
   "cell_type": "code",
   "execution_count": null,
   "id": "80e2d39e",
   "metadata": {},
   "outputs": [],
   "source": [
    "for gene in genes:\n",
    "    print(gene)\n",
    "    missed = []\n",
    "    with open('orca_results/' + gene + '_cds.txt', 'a') as res:\n",
    "                                \n",
    "        handle = Entrez.esearch(db='protein', term = 'Orcinus orca[Orgn] AND ' + gene + '[Gene]')\n",
    "        record = Entrez.read(handle)\n",
    "        identifier = record['IdList']\n",
    "        if not identifier:\n",
    "            missed.append('orca')\n",
    "        else:\n",
    "            proteins = []\n",
    "            for i in identifier:\n",
    "                handle = Entrez.efetch(db='protein', rettype='fasta_cds_na', retmode='text',\n",
    "                      id=identifier)\n",
    "                proteins.append(handle.read())\n",
    "            string = ''.join(proteins)\n",
    "            sequences = string.split('\\n\\n')\n",
    "            sequences.remove('')\n",
    "            sequences = list(dict.fromkeys(sequences))\n",
    "            for i in sequences:\n",
    "                res.write('>Orc_orc' )\n",
    "                res.write(i + '\\n')\n",
    "miss_dict[gene] = missed\n",
    "    \n",
    "missed_df = pd.DataFrame.from_dict(miss_dict, orient='index').transpose()\n",
    "missed_df.to_csv('missed_orca.csv')"
   ]
  },
  {
   "cell_type": "code",
   "execution_count": null,
   "id": "d6dc61f0",
   "metadata": {},
   "outputs": [],
   "source": [
    "handle = Entrez.esearch(db='protein', term = '\"Orcinus orca\"[Organism] OR orcinus orca[All Fields]) AND drd1[All Fields]')"
   ]
  },
  {
   "cell_type": "code",
   "execution_count": null,
   "id": "c984b822",
   "metadata": {},
   "outputs": [],
   "source": [
    "record = Entrez.read(handle)"
   ]
  },
  {
   "cell_type": "code",
   "execution_count": null,
   "id": "f63beb4b",
   "metadata": {},
   "outputs": [],
   "source": [
    "record"
   ]
  },
  {
   "cell_type": "markdown",
   "id": "72f2b3bd",
   "metadata": {},
   "source": [
    "# Get cds for custom genes"
   ]
  },
  {
   "cell_type": "code",
   "execution_count": 7,
   "id": "ff747c66",
   "metadata": {},
   "outputs": [],
   "source": [
    "genes = ['FGF8']"
   ]
  },
  {
   "cell_type": "code",
   "execution_count": 8,
   "id": "741bc691",
   "metadata": {},
   "outputs": [
    {
     "name": "stdout",
     "output_type": "stream",
     "text": [
      "FGF8\n"
     ]
    }
   ],
   "source": [
    "miss_dict = {}\n",
    "\n",
    "for gene in genes:\n",
    "    print(gene)\n",
    "    missed = []\n",
    "    with open('entrez_results/' + gene + '_cds.txt', 'a') as res:\n",
    "        for specie in species:\n",
    "                        \n",
    "            handle = Entrez.esearch(db='protein', term = specie +'[Orgn] AND ' + gene + '[Gene] AND RefSeq[Filter]')\n",
    "            record = Entrez.read(handle)\n",
    "            identifier = record['IdList']\n",
    "            if not identifier:\n",
    "                missed.append(specie)\n",
    "            else:\n",
    "                proteins = []\n",
    "                for i in identifier:\n",
    "                    handle = Entrez.efetch(db='protein', rettype='fasta_cds_na', retmode='text',\n",
    "                          id=identifier)\n",
    "                    proteins.append(handle.read())\n",
    "                string = ''.join(proteins)\n",
    "                sequences = string.split('\\n\\n')\n",
    "                sequences.remove('')\n",
    "                sequences = list(dict.fromkeys(sequences))\n",
    "                for i in sequences:\n",
    "                    res.write('>' + specie)\n",
    "                    res.write(i + '\\n')\n",
    "    miss_dict[gene] = missed\n",
    "    \n",
    "missed_df = pd.DataFrame.from_dict(miss_dict, orient='index').transpose()\n",
    "missed_df.to_csv('missed_cds.csv')"
   ]
  },
  {
   "cell_type": "code",
   "execution_count": null,
   "id": "d95e484d",
   "metadata": {},
   "outputs": [],
   "source": []
  },
  {
   "cell_type": "code",
   "execution_count": null,
   "id": "bf609dd9",
   "metadata": {},
   "outputs": [],
   "source": []
  },
  {
   "cell_type": "code",
   "execution_count": null,
   "id": "c53aba4b",
   "metadata": {},
   "outputs": [],
   "source": []
  },
  {
   "cell_type": "code",
   "execution_count": null,
   "id": "b3300569",
   "metadata": {},
   "outputs": [],
   "source": []
  },
  {
   "cell_type": "code",
   "execution_count": null,
   "id": "61a8cf24",
   "metadata": {},
   "outputs": [],
   "source": []
  },
  {
   "cell_type": "code",
   "execution_count": null,
   "id": "e7ff4acb",
   "metadata": {},
   "outputs": [],
   "source": []
  },
  {
   "cell_type": "code",
   "execution_count": null,
   "id": "2cc8efa3",
   "metadata": {},
   "outputs": [],
   "source": []
  },
  {
   "cell_type": "code",
   "execution_count": null,
   "id": "2efa1008",
   "metadata": {},
   "outputs": [],
   "source": []
  },
  {
   "cell_type": "code",
   "execution_count": null,
   "id": "d6255573",
   "metadata": {},
   "outputs": [],
   "source": []
  },
  {
   "cell_type": "code",
   "execution_count": null,
   "id": "b5d1e054",
   "metadata": {},
   "outputs": [],
   "source": []
  },
  {
   "cell_type": "code",
   "execution_count": null,
   "id": "10f5e4d3",
   "metadata": {},
   "outputs": [],
   "source": []
  }
 ],
 "metadata": {
  "kernelspec": {
   "display_name": "Python 3",
   "language": "python",
   "name": "python3"
  },
  "language_info": {
   "codemirror_mode": {
    "name": "ipython",
    "version": 3
   },
   "file_extension": ".py",
   "mimetype": "text/x-python",
   "name": "python",
   "nbconvert_exporter": "python",
   "pygments_lexer": "ipython3",
   "version": "3.8.10"
  }
 },
 "nbformat": 4,
 "nbformat_minor": 5
}
